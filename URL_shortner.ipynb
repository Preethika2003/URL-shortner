{
  "nbformat": 4,
  "nbformat_minor": 0,
  "metadata": {
    "colab": {
      "provenance": [],
      "authorship_tag": "ABX9TyPrYl1JxLy21YXJDNzwLBaM",
      "include_colab_link": true
    },
    "kernelspec": {
      "name": "python3",
      "display_name": "Python 3"
    },
    "language_info": {
      "name": "python"
    }
  },
  "cells": [
    {
      "cell_type": "markdown",
      "metadata": {
        "id": "view-in-github",
        "colab_type": "text"
      },
      "source": [
        "<a href=\"https://colab.research.google.com/github/Preethika2003/URL-shortner/blob/main/URL_shortner.ipynb\" target=\"_parent\"><img src=\"https://colab.research.google.com/assets/colab-badge.svg\" alt=\"Open In Colab\"/></a>"
      ]
    },
    {
      "cell_type": "code",
      "execution_count": null,
      "metadata": {
        "id": "YiNW3ioLzaGF"
      },
      "outputs": [],
      "source": []
    },
    {
      "cell_type": "code",
      "source": [
        "#shorten url\n",
        "!pip install requests\n",
        "import requests\n",
        "import json\n",
        "import os\n",
        "from google.colab import files\n",
        "\n",
        "FILE_NAME = \"shortened_links.json\"\n",
        "\n",
        "def shorten_url(long_url):\n",
        "    url = f\"https://tinyurl.com/api-create.php?url={long_url}\"\n",
        "\n",
        "    response = requests.get(url)\n",
        "\n",
        "    if response.status_code == 200:\n",
        "        short_link = response.text\n",
        "        save_link(long_url, short_link)\n",
        "        return short_link\n",
        "    else:\n",
        "        print(f\"Error: {response.status_code}\")\n",
        "        return None\n",
        "\n",
        "def save_link(long_url, short_url):\n",
        "    links = {}\n",
        "    if os.path.exists(FILE_NAME):\n",
        "        with open(FILE_NAME, \"r\") as file:\n",
        "            try:\n",
        "                links = json.load(file)\n",
        "            except json.JSONDecodeError:\n",
        "                pass\n",
        "\n",
        "    links[long_url] = short_url\n",
        "\n",
        "    with open(FILE_NAME, \"w\") as file:\n",
        "        json.dump(links, file, indent=4)\n",
        "\n",
        "    print(\"Link saved successfully!\")\n",
        "    files.download(FILE_NAME)\n",
        "\n",
        "def retrieve_links():\n",
        "    if os.path.exists(FILE_NAME):\n",
        "        with open(FILE_NAME, \"r\") as file:\n",
        "            try:\n",
        "                links = json.load(file)\n",
        "                if links:\n",
        "                    for long_url, short_url in links.items():\n",
        "                        print(f\"{long_url} -> {short_url}\")\n",
        "                else:\n",
        "                    print(\"No stored links found!\")\n",
        "            except json.JSONDecodeError:\n",
        "                print(\"Error reading stored links file.\")\n",
        "    else:\n",
        "        print(\"No stored links found!\")\n",
        "\n",
        "if __name__ == \"__main__\":\n",
        "    print(\"1. Shorten a URL\")\n",
        "    print(\"2. Retrieve stored links\")\n",
        "    choice = input(\"Choose an option (1/2): \")\n",
        "\n",
        "    if choice == \"1\":\n",
        "        long_url = input(\"Enter the long URL to shorten: \")\n",
        "        short_url = shorten_url(long_url)\n",
        "        if short_url:\n",
        "            print(f\"Shortened URL: {short_url}\")\n",
        "    elif choice == \"2\":\n",
        "        retrieve_links()\n",
        "    else:\n",
        "        print(\"Invalid choice. Exiting.\")\n"
      ],
      "metadata": {
        "colab": {
          "base_uri": "https://localhost:8080/",
          "height": 208
        },
        "collapsed": true,
        "id": "X6ZWkZ3lV9a3",
        "outputId": "ac742861-f3b6-4634-ba17-7a6dbc78937c"
      },
      "execution_count": null,
      "outputs": [
        {
          "output_type": "stream",
          "name": "stdout",
          "text": [
            "Requirement already satisfied: requests in /usr/local/lib/python3.11/dist-packages (2.32.3)\n",
            "Requirement already satisfied: charset-normalizer<4,>=2 in /usr/local/lib/python3.11/dist-packages (from requests) (3.4.1)\n",
            "Requirement already satisfied: idna<4,>=2.5 in /usr/local/lib/python3.11/dist-packages (from requests) (3.10)\n",
            "Requirement already satisfied: urllib3<3,>=1.21.1 in /usr/local/lib/python3.11/dist-packages (from requests) (2.3.0)\n",
            "Requirement already satisfied: certifi>=2017.4.17 in /usr/local/lib/python3.11/dist-packages (from requests) (2025.1.31)\n",
            "1. Shorten a URL\n",
            "2. Retrieve stored links\n",
            "Choose an option (1/2): 1\n",
            "Enter the long URL to shorten: https://colab.research.google.com/drive/1Y8DLlIYCcQnWlG8A9Gu1o6rTFjgPyH6v#scrollTo=X6ZWkZ3lV9a3\n",
            "Link saved successfully!\n"
          ]
        },
        {
          "output_type": "display_data",
          "data": {
            "text/plain": [
              "<IPython.core.display.Javascript object>"
            ],
            "application/javascript": [
              "\n",
              "    async function download(id, filename, size) {\n",
              "      if (!google.colab.kernel.accessAllowed) {\n",
              "        return;\n",
              "      }\n",
              "      const div = document.createElement('div');\n",
              "      const label = document.createElement('label');\n",
              "      label.textContent = `Downloading \"${filename}\": `;\n",
              "      div.appendChild(label);\n",
              "      const progress = document.createElement('progress');\n",
              "      progress.max = size;\n",
              "      div.appendChild(progress);\n",
              "      document.body.appendChild(div);\n",
              "\n",
              "      const buffers = [];\n",
              "      let downloaded = 0;\n",
              "\n",
              "      const channel = await google.colab.kernel.comms.open(id);\n",
              "      // Send a message to notify the kernel that we're ready.\n",
              "      channel.send({})\n",
              "\n",
              "      for await (const message of channel.messages) {\n",
              "        // Send a message to notify the kernel that we're ready.\n",
              "        channel.send({})\n",
              "        if (message.buffers) {\n",
              "          for (const buffer of message.buffers) {\n",
              "            buffers.push(buffer);\n",
              "            downloaded += buffer.byteLength;\n",
              "            progress.value = downloaded;\n",
              "          }\n",
              "        }\n",
              "      }\n",
              "      const blob = new Blob(buffers, {type: 'application/binary'});\n",
              "      const a = document.createElement('a');\n",
              "      a.href = window.URL.createObjectURL(blob);\n",
              "      a.download = filename;\n",
              "      div.appendChild(a);\n",
              "      a.click();\n",
              "      div.remove();\n",
              "    }\n",
              "  "
            ]
          },
          "metadata": {}
        },
        {
          "output_type": "display_data",
          "data": {
            "text/plain": [
              "<IPython.core.display.Javascript object>"
            ],
            "application/javascript": [
              "download(\"download_37313eed-ce6f-4bfc-9bf8-5463536f35ca\", \"shortened_links.json\", 137)"
            ]
          },
          "metadata": {}
        },
        {
          "output_type": "stream",
          "name": "stdout",
          "text": [
            "Shortened URL: https://tinyurl.com/25nwepyr\n"
          ]
        }
      ]
    }
  ]
}